{
 "cells": [
  {
   "cell_type": "markdown",
   "metadata": {},
   "source": [
    "# Broadcasting : Basics\n",
    "\n",
    "## Example : 1\n",
    "\n",
    "In this matrix, are shown the number of calories from carbohydrates, proteins, and fats in 100 grams of four different foods: apples, beef, eggs, and potatoes.\n",
    "\n",
    "$$ A=   \\begin{bmatrix}\n",
    "        56.0 & 0.0 & 4.4 & 68.0\\\\\n",
    "        1.2 & 104.0 & 52.0 & 8.0\\\\\n",
    "        1.8 & 135.0 & 99.0 & 0.9\n",
    "        \\end{bmatrix}$$\n",
    "\n",
    "Now, let's say your goal is to calculate the percentage of calories from carbs, proteins and fats for each of the four foods.  \n",
    "\n",
    "To do this, with one line of Python code we're going to sum down the columns. Then,a second line of Python code to divide each of the four columns by their corresponding sum, to find out the percentage composition."
   ]
  },
  {
   "cell_type": "code",
   "execution_count": 3,
   "metadata": {},
   "outputs": [
    {
     "name": "stdout",
     "output_type": "stream",
     "text": [
      "[[ 56.    0.    4.4  68. ]\n",
      " [  1.2 104.   52.    8. ]\n",
      " [  1.8 135.   99.    0.9]]\n"
     ]
    }
   ],
   "source": [
    "import numpy as np\n",
    "\n",
    "A = np.array([[56.0,0.0,4.4,68.0],\n",
    "              [1.2,104.0,52.0,8.0],\n",
    "              [1.8,135.0,99.0,0.9]])\n",
    "\n",
    "print(A)"
   ]
  },
  {
   "cell_type": "code",
   "execution_count": 4,
   "metadata": {},
   "outputs": [
    {
     "name": "stdout",
     "output_type": "stream",
     "text": [
      "[ 59.  239.  155.4  76.9]\n"
     ]
    }
   ],
   "source": [
    "cal = A.sum(axis=0)  #to sum vertically\n",
    "print(cal)"
   ]
  },
  {
   "cell_type": "code",
   "execution_count": 5,
   "metadata": {
    "scrolled": true
   },
   "outputs": [
    {
     "name": "stdout",
     "output_type": "stream",
     "text": [
      "[[94.91525424  0.          2.83140283 88.42652796]\n",
      " [ 2.03389831 43.51464435 33.46203346 10.40312094]\n",
      " [ 3.05084746 56.48535565 63.70656371  1.17035111]]\n"
     ]
    }
   ],
   "source": [
    "percentage = 100*A/cal.reshape(1,4)\n",
    "print(percentage)"
   ]
  },
  {
   "cell_type": "markdown",
   "metadata": {},
   "source": [
    "Here, in line(4): (axis = 0), means that you want Python to sum vertically. Further, line(5) is an example of Python broadcasting, where you take a matrix A, a three by four matrix and divide it by a one by four matrix, cal. \n",
    "\n",
    "So with this, we have found the percentage composition of carbs, proteins and fats in apples, beef, eggs and potatoes by broadcasting."
   ]
  }
 ],
 "metadata": {
  "kernelspec": {
   "display_name": "Python 3",
   "language": "python",
   "name": "python3"
  },
  "language_info": {
   "codemirror_mode": {
    "name": "ipython",
    "version": 3
   },
   "file_extension": ".py",
   "mimetype": "text/x-python",
   "name": "python",
   "nbconvert_exporter": "python",
   "pygments_lexer": "ipython3",
   "version": "3.7.1"
  }
 },
 "nbformat": 4,
 "nbformat_minor": 2
}
